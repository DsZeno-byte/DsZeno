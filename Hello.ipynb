{
 "cells": [
  {
   "cell_type": "code",
   "execution_count": 3,
   "id": "e662d92a-baa7-4cf4-aa0b-de22bfa632dd",
   "metadata": {},
   "outputs": [
    {
     "name": "stdout",
     "output_type": "stream",
     "text": [
      "Name :  Tanuj Sanwal\n",
      "Course_Name :  MCA with Data Science\n",
      "Version :  3.12.4\n"
     ]
    }
   ],
   "source": [
    "import platform\n",
    "Name=\"Tanuj Sanwal\"\n",
    "Course_Name=\"MCA with Data Science\"\n",
    "\n",
    "print(\"Name : \",Name)\n",
    "print(\"Course_Name : \",Course_Name)\n",
    "print(\"Version : \",platform.python_version())"
   ]
  },
  {
   "cell_type": "code",
   "execution_count": 7,
   "id": "08b3febf-3713-422d-80d8-b1cba1cb32ca",
   "metadata": {},
   "outputs": [
    {
     "name": "stdout",
     "output_type": "stream",
     "text": [
      "Hello,Python World!\n"
     ]
    }
   ],
   "source": [
    "print(\"Hello,Python World!\")"
   ]
  },
  {
   "cell_type": "code",
   "execution_count": null,
   "id": "21bb31df-2fb1-4408-897f-1a518174cc73",
   "metadata": {},
   "outputs": [],
   "source": []
  }
 ],
 "metadata": {
  "kernelspec": {
   "display_name": "Python 3 (ipykernel)",
   "language": "python",
   "name": "python3"
  },
  "language_info": {
   "codemirror_mode": {
    "name": "ipython",
    "version": 3
   },
   "file_extension": ".py",
   "mimetype": "text/x-python",
   "name": "python",
   "nbconvert_exporter": "python",
   "pygments_lexer": "ipython3",
   "version": "3.12.4"
  }
 },
 "nbformat": 4,
 "nbformat_minor": 5
}
