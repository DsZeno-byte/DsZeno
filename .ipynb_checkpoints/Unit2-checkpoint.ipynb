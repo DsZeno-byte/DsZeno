{
 "cells": [
  {
   "cell_type": "markdown",
   "id": "4bd4a604-a74a-4f52-afcf-6b2144900f09",
   "metadata": {},
   "source": [
    "# Unit 2\n",
    "# Tanuj Sanwal\n"
   ]
  },
  {
   "cell_type": "code",
   "execution_count": 9,
   "id": "301568c8-0d7f-4f09-8407-1df5d76c2e02",
   "metadata": {},
   "outputs": [
    {
     "name": "stdout",
     "output_type": "stream",
     "text": [
      "8\n"
     ]
    }
   ],
   "source": [
    "# Lambda function to add two numbers\n",
    "add=lambda a,b: a+b\n",
    "print(add(3,5)) # Output:8 Using a lambda function with map"
   ]
  },
  {
   "cell_type": "code",
   "execution_count": 27,
   "id": "4161652e-f58a-4ab5-b4fa-f7d9129dc1d8",
   "metadata": {},
   "outputs": [
    {
     "name": "stdout",
     "output_type": "stream",
     "text": [
      "90\n"
     ]
    }
   ],
   "source": [
    "\n",
    "num=lambda a,b: a*b\n",
    "print(num(10,9))"
   ]
  },
  {
   "cell_type": "markdown",
   "id": "d64dbb00-2a28-48a7-8987-4a1406098b0e",
   "metadata": {},
   "source": [
    "# Question 1:- Write a program using two Lambda Function"
   ]
  },
  {
   "cell_type": "code",
   "execution_count": 15,
   "id": "e7674a86-db3f-4ef5-8477-39648909c24f",
   "metadata": {},
   "outputs": [
    {
     "name": "stdout",
     "output_type": "stream",
     "text": [
      "[1, 4, 9, 16]\n"
     ]
    }
   ],
   "source": [
    "numbers=[1,2,3,4]\n",
    "squared=map(lambda x: x*x,  numbers)\n",
    "print(list(squared)) # Output:[1,4,9,16]"
   ]
  },
  {
   "cell_type": "code",
   "execution_count": 35,
   "id": "a8729123-134b-4055-af12-252350a78ccd",
   "metadata": {},
   "outputs": [
    {
     "name": "stdin",
     "output_type": "stream",
     "text": [
      "Enter First Number:- 20\n",
      "Enter Second NUmber :- 20\n"
     ]
    },
    {
     "name": "stdout",
     "output_type": "stream",
     "text": [
      "400\n"
     ]
    }
   ],
   "source": [
    "a=2\n",
    "b=5\n",
    "#  normal Function\n",
    "\n",
    "# def num(a,b):\n",
    "    #return a*b\n",
    "# using lambda\n",
    "def multiply(x,y)->int:\n",
    "    return x*y\n",
    "a=int(input(\"Enter First Number:-\"))\n",
    "b=int(input(\"Enter Second NUmber :-\"))\n",
    "\n",
    "value=multiply(a,b)\n",
    "print(value)\n"
   ]
  },
  {
   "cell_type": "markdown",
   "id": "42e730bc-4df3-4f7c-b558-a211505c1e3f",
   "metadata": {},
   "source": [
    "# Question 2:- Write a program to square each number in a list without using map and lambda"
   ]
  },
  {
   "cell_type": "code",
   "execution_count": 37,
   "id": "2d886e0c-4f8f-479e-9e07-73bdaba66735",
   "metadata": {},
   "outputs": [
    {
     "name": "stdout",
     "output_type": "stream",
     "text": [
      "[1, 4, 9, 16, 25, 36, 49, 64]\n"
     ]
    }
   ],
   "source": [
    "num=[1,2,3,4,5,6,7,8]\n",
    "num2=[]\n",
    "for i in num:\n",
    "    result=i*i\n",
    "    num2.append(result)\n",
    "print(num2)"
   ]
  },
  {
   "cell_type": "markdown",
   "id": "c90598fa-99ac-48ce-adf7-06bffb2d8bab",
   "metadata": {},
   "source": [
    "# Question 3:-  Write a program to square each number in a list without using map and lambda and return only even numbers"
   ]
  },
  {
   "cell_type": "code",
   "execution_count": 46,
   "id": "0a1751be-2e15-4705-b83c-d9c566a436b1",
   "metadata": {},
   "outputs": [
    {
     "name": "stdout",
     "output_type": "stream",
     "text": [
      "[4, 16, 36, 64, 100]\n"
     ]
    }
   ],
   "source": [
    "num=[1,2,3,4,5,6,7,8,9,10]\n",
    "num2=[]\n",
    "for i in num:\n",
    "    result=i*i\n",
    "    if result%2==0:\n",
    "        num2.append(result)\n",
    "print(num2)"
   ]
  },
  {
   "cell_type": "markdown",
   "id": "1e74ce35-9e80-4131-9290-cb055c1904f2",
   "metadata": {},
   "source": [
    "# Question4:- Write a program filter,map and lambda function"
   ]
  },
  {
   "cell_type": "code",
   "execution_count": 53,
   "id": "418a6b3f-f866-4522-8546-5a0aa0800a15",
   "metadata": {},
   "outputs": [
    {
     "name": "stdout",
     "output_type": "stream",
     "text": [
      "[1, 4, 9, 16, 25, 36]\n"
     ]
    }
   ],
   "source": [
    "# Using map to square each number\n",
    "numbers=[1,2,3,4,5,6]\n",
    "square=map(lambda x: x*x,numbers)\n",
    "print(list(square))"
   ]
  },
  {
   "cell_type": "code",
   "execution_count": 61,
   "id": "114d9652-2528-4208-adfe-9f2c366336fb",
   "metadata": {},
   "outputs": [
    {
     "name": "stdout",
     "output_type": "stream",
     "text": [
      "[2, 4, 6]\n"
     ]
    }
   ],
   "source": [
    "# Filter Function\n",
    "even=filter(lambda x:x%2==0,numbers)\n",
    "print(list(even))"
   ]
  },
  {
   "cell_type": "markdown",
   "id": "7f7dca27-e17b-4ec0-b2f7-f3435cdf0747",
   "metadata": {},
   "source": [
    "# Write a program create a list of square of even number from 0 to 9"
   ]
  },
  {
   "cell_type": "code",
   "execution_count": 55,
   "id": "d65d506b-a827-41da-a45d-0ee4b9928fde",
   "metadata": {},
   "outputs": [
    {
     "name": "stdout",
     "output_type": "stream",
     "text": [
      "[0, 4, 16, 36, 64]\n"
     ]
    }
   ],
   "source": [
    "\n",
    "square=[]\n",
    "for i in range(10):\n",
    "    if i%2==0:\n",
    "        square.append(i**2)\n",
    "print(square)"
   ]
  },
  {
   "cell_type": "markdown",
   "id": "8fff6e31-7dab-4572-9bfe-02954dc52492",
   "metadata": {},
   "source": [
    "# Write a program that take a list containing a sap id and return a list of email address"
   ]
  },
  {
   "cell_type": "code",
   "execution_count": 63,
   "id": "87d92466-c883-46f2-9214-7d3c958d7f62",
   "metadata": {},
   "outputs": [
    {
     "ename": "NameError",
     "evalue": "name 'String' is not defined",
     "output_type": "error",
     "traceback": [
      "\u001b[1;31m---------------------------------------------------------------------------\u001b[0m",
      "\u001b[1;31mNameError\u001b[0m                                 Traceback (most recent call last)",
      "Cell \u001b[1;32mIn[63], line 1\u001b[0m\n\u001b[1;32m----> 1\u001b[0m name\u001b[38;5;241m=\u001b[39m\u001b[38;5;28minput\u001b[39m(String(\u001b[38;5;124m\"\u001b[39m\u001b[38;5;124mEnter Your Name:\u001b[39m\u001b[38;5;124m\"\u001b[39m))\n\u001b[0;32m      2\u001b[0m sapId\u001b[38;5;241m=\u001b[39m\u001b[38;5;28minput\u001b[39m(\u001b[38;5;28mint\u001b[39m(\u001b[38;5;124m\"\u001b[39m\u001b[38;5;124mEnter Your SapID: \u001b[39m\u001b[38;5;124m\"\u001b[39m ))\n\u001b[0;32m      3\u001b[0m mail\u001b[38;5;241m=\u001b[39m\u001b[38;5;124m\"\u001b[39m\u001b[38;5;124m@stu.upes.ac.in\u001b[39m\u001b[38;5;124m\"\u001b[39m\n",
      "\u001b[1;31mNameError\u001b[0m: name 'String' is not defined"
     ]
    }
   ],
   "source": [
    "name=input((\"Enter Your Name:\"))\n",
    "sapId=input(int(\"Enter Your SapID: \" ))\n",
    "mail=\"@stu.upes.ac.in\"\n"
   ]
  },
  {
   "cell_type": "code",
   "execution_count": null,
   "id": "505428f2-4137-4e41-b3e9-8cf582feb849",
   "metadata": {},
   "outputs": [],
   "source": [
    "# write a program that take email address from user and message from user and using smdb lib send that message to all the email address in the list"
   ]
  }
 ],
 "metadata": {
  "kernelspec": {
   "display_name": "Python 3 (ipykernel)",
   "language": "python",
   "name": "python3"
  },
  "language_info": {
   "codemirror_mode": {
    "name": "ipython",
    "version": 3
   },
   "file_extension": ".py",
   "mimetype": "text/x-python",
   "name": "python",
   "nbconvert_exporter": "python",
   "pygments_lexer": "ipython3",
   "version": "3.12.4"
  }
 },
 "nbformat": 4,
 "nbformat_minor": 5
}
